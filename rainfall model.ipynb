{
 "cells": [
  {
   "cell_type": "code",
   "execution_count": 1,
   "metadata": {},
   "outputs": [],
   "source": [
    "import tensorflow as tf\n",
    "import pandas as pd\n",
    "import os\n",
    "import numpy as np"
   ]
  },
  {
   "cell_type": "code",
   "execution_count": 2,
   "metadata": {},
   "outputs": [
    {
     "data": {
      "text/html": [
       "<div>\n",
       "<style scoped>\n",
       "    .dataframe tbody tr th:only-of-type {\n",
       "        vertical-align: middle;\n",
       "    }\n",
       "\n",
       "    .dataframe tbody tr th {\n",
       "        vertical-align: top;\n",
       "    }\n",
       "\n",
       "    .dataframe thead th {\n",
       "        text-align: right;\n",
       "    }\n",
       "</style>\n",
       "<table border=\"1\" class=\"dataframe\">\n",
       "  <thead>\n",
       "    <tr style=\"text-align: right;\">\n",
       "      <th></th>\n",
       "      <th>DATE</th>\n",
       "      <th>RAINFALL</th>\n",
       "      <th>FLOW (M3/S)</th>\n",
       "      <th>FLOW-OBSERVED (M3/S)</th>\n",
       "    </tr>\n",
       "  </thead>\n",
       "  <tbody>\n",
       "    <tr>\n",
       "      <th>0</th>\n",
       "      <td>9-Mar-04</td>\n",
       "      <td>0.1590</td>\n",
       "      <td>3990</td>\n",
       "      <td>4281</td>\n",
       "    </tr>\n",
       "    <tr>\n",
       "      <th>1</th>\n",
       "      <td>10-Mar-04</td>\n",
       "      <td>1.1065</td>\n",
       "      <td>3990</td>\n",
       "      <td>4270</td>\n",
       "    </tr>\n",
       "    <tr>\n",
       "      <th>2</th>\n",
       "      <td>11-Mar-04</td>\n",
       "      <td>0.0000</td>\n",
       "      <td>3990</td>\n",
       "      <td>4260</td>\n",
       "    </tr>\n",
       "    <tr>\n",
       "      <th>3</th>\n",
       "      <td>12-Mar-04</td>\n",
       "      <td>0.0000</td>\n",
       "      <td>3990</td>\n",
       "      <td>4249</td>\n",
       "    </tr>\n",
       "    <tr>\n",
       "      <th>4</th>\n",
       "      <td>13-Mar-04</td>\n",
       "      <td>0.0000</td>\n",
       "      <td>3990</td>\n",
       "      <td>4238</td>\n",
       "    </tr>\n",
       "    <tr>\n",
       "      <th>...</th>\n",
       "      <td>...</td>\n",
       "      <td>...</td>\n",
       "      <td>...</td>\n",
       "      <td>...</td>\n",
       "    </tr>\n",
       "    <tr>\n",
       "      <th>1448</th>\n",
       "      <td>25-Feb-08</td>\n",
       "      <td>0.0205</td>\n",
       "      <td>4304</td>\n",
       "      <td>3705</td>\n",
       "    </tr>\n",
       "    <tr>\n",
       "      <th>1449</th>\n",
       "      <td>26-Feb-08</td>\n",
       "      <td>0.0000</td>\n",
       "      <td>4294</td>\n",
       "      <td>3709</td>\n",
       "    </tr>\n",
       "    <tr>\n",
       "      <th>1450</th>\n",
       "      <td>27-Feb-08</td>\n",
       "      <td>0.0000</td>\n",
       "      <td>4296</td>\n",
       "      <td>3712</td>\n",
       "    </tr>\n",
       "    <tr>\n",
       "      <th>1451</th>\n",
       "      <td>28-Feb-08</td>\n",
       "      <td>0.0000</td>\n",
       "      <td>4288</td>\n",
       "      <td>3716</td>\n",
       "    </tr>\n",
       "    <tr>\n",
       "      <th>1452</th>\n",
       "      <td>29-Feb-08</td>\n",
       "      <td>0.0000</td>\n",
       "      <td>4289</td>\n",
       "      <td>3720</td>\n",
       "    </tr>\n",
       "  </tbody>\n",
       "</table>\n",
       "<p>1453 rows × 4 columns</p>\n",
       "</div>"
      ],
      "text/plain": [
       "           DATE  RAINFALL   FLOW (M3/S)  FLOW-OBSERVED (M3/S)\n",
       "0      9-Mar-04     0.1590         3990                  4281\n",
       "1     10-Mar-04     1.1065         3990                  4270\n",
       "2     11-Mar-04     0.0000         3990                  4260\n",
       "3     12-Mar-04     0.0000         3990                  4249\n",
       "4     13-Mar-04     0.0000         3990                  4238\n",
       "...         ...        ...          ...                   ...\n",
       "1448  25-Feb-08     0.0205         4304                  3705\n",
       "1449  26-Feb-08     0.0000         4294                  3709\n",
       "1450  27-Feb-08     0.0000         4296                  3712\n",
       "1451  28-Feb-08     0.0000         4288                  3716\n",
       "1452  29-Feb-08     0.0000         4289                  3720\n",
       "\n",
       "[1453 rows x 4 columns]"
      ]
     },
     "execution_count": 2,
     "metadata": {},
     "output_type": "execute_result"
    }
   ],
   "source": [
    "df=pd.read_csv(r'2004 to 2007 comple.csv')\n",
    "df"
   ]
  },
  {
   "cell_type": "code",
   "execution_count": 3,
   "metadata": {},
   "outputs": [
    {
     "name": "stderr",
     "output_type": "stream",
     "text": [
      "C:\\Users\\SHANTO-PC\\AppData\\Local\\Temp\\ipykernel_15140\\2451772597.py:1: UserWarning: Could not infer format, so each element will be parsed individually, falling back to `dateutil`. To ensure parsing is consistent and as-expected, please specify a format.\n",
      "  df.index=pd.to_datetime(df['DATE'])\n"
     ]
    },
    {
     "data": {
      "text/html": [
       "<div>\n",
       "<style scoped>\n",
       "    .dataframe tbody tr th:only-of-type {\n",
       "        vertical-align: middle;\n",
       "    }\n",
       "\n",
       "    .dataframe tbody tr th {\n",
       "        vertical-align: top;\n",
       "    }\n",
       "\n",
       "    .dataframe thead th {\n",
       "        text-align: right;\n",
       "    }\n",
       "</style>\n",
       "<table border=\"1\" class=\"dataframe\">\n",
       "  <thead>\n",
       "    <tr style=\"text-align: right;\">\n",
       "      <th></th>\n",
       "      <th>DATE</th>\n",
       "      <th>RAINFALL</th>\n",
       "      <th>FLOW (M3/S)</th>\n",
       "      <th>FLOW-OBSERVED (M3/S)</th>\n",
       "    </tr>\n",
       "    <tr>\n",
       "      <th>DATE</th>\n",
       "      <th></th>\n",
       "      <th></th>\n",
       "      <th></th>\n",
       "      <th></th>\n",
       "    </tr>\n",
       "  </thead>\n",
       "  <tbody>\n",
       "    <tr>\n",
       "      <th>2004-03-09</th>\n",
       "      <td>9-Mar-04</td>\n",
       "      <td>0.1590</td>\n",
       "      <td>3990</td>\n",
       "      <td>4281</td>\n",
       "    </tr>\n",
       "    <tr>\n",
       "      <th>2004-03-10</th>\n",
       "      <td>10-Mar-04</td>\n",
       "      <td>1.1065</td>\n",
       "      <td>3990</td>\n",
       "      <td>4270</td>\n",
       "    </tr>\n",
       "    <tr>\n",
       "      <th>2004-03-11</th>\n",
       "      <td>11-Mar-04</td>\n",
       "      <td>0.0000</td>\n",
       "      <td>3990</td>\n",
       "      <td>4260</td>\n",
       "    </tr>\n",
       "    <tr>\n",
       "      <th>2004-03-12</th>\n",
       "      <td>12-Mar-04</td>\n",
       "      <td>0.0000</td>\n",
       "      <td>3990</td>\n",
       "      <td>4249</td>\n",
       "    </tr>\n",
       "    <tr>\n",
       "      <th>2004-03-13</th>\n",
       "      <td>13-Mar-04</td>\n",
       "      <td>0.0000</td>\n",
       "      <td>3990</td>\n",
       "      <td>4238</td>\n",
       "    </tr>\n",
       "  </tbody>\n",
       "</table>\n",
       "</div>"
      ],
      "text/plain": [
       "                 DATE  RAINFALL   FLOW (M3/S)  FLOW-OBSERVED (M3/S)\n",
       "DATE                                                               \n",
       "2004-03-09   9-Mar-04     0.1590         3990                  4281\n",
       "2004-03-10  10-Mar-04     1.1065         3990                  4270\n",
       "2004-03-11  11-Mar-04     0.0000         3990                  4260\n",
       "2004-03-12  12-Mar-04     0.0000         3990                  4249\n",
       "2004-03-13  13-Mar-04     0.0000         3990                  4238"
      ]
     },
     "execution_count": 3,
     "metadata": {},
     "output_type": "execute_result"
    }
   ],
   "source": [
    "df.index=pd.to_datetime(df['DATE'])\n",
    "df.head()"
   ]
  },
  {
   "cell_type": "code",
   "execution_count": 4,
   "metadata": {},
   "outputs": [
    {
     "data": {
      "text/plain": [
       "<Axes: xlabel='DATE'>"
      ]
     },
     "execution_count": 4,
     "metadata": {},
     "output_type": "execute_result"
    },
    {
     "data": {
      "image/png": "[encoded data removed]",
      "text/plain": [
       "<Figure size 640x480 with 1 Axes>"
      ]
     },
     "metadata": {},
     "output_type": "display_data"
    }
   ],
   "source": [
    "flow=df['FLOW-OBSERVED (M3/S)'[:100]]\n",
    "flow.plot()"
   ]
  },
  {
   "cell_type": "code",
   "execution_count": 5,
   "metadata": {},
   "outputs": [],
   "source": [
    "def df_to_x_y(df, window_size=3):\n",
    "    df_as_np=df.to_numpy()\n",
    "    x=[]\n",
    "    y=[]\n",
    "    for i in range (len(df_as_np)-window_size):\n",
    "        row=[[a] for a in df_as_np[i:i+3]]\n",
    "        x.append(row)\n",
    "        label= df_as_np[i+3]\n",
    "        y.append(label)\n",
    "    return np.array(x), np.array(y)"
   ]
  },
  {
   "cell_type": "code",
   "execution_count": 6,
   "metadata": {},
   "outputs": [
    {
     "data": {
      "text/plain": [
       "((1450, 3, 1), (1450,))"
      ]
     },
     "execution_count": 6,
     "metadata": {},
     "output_type": "execute_result"
    }
   ],
   "source": [
    "Window=3\n",
    "x,y= df_to_x_y(flow,Window)\n",
    "x.shape, y.shape"
   ]
  },
  {
   "cell_type": "code",
   "execution_count": 7,
   "metadata": {},
   "outputs": [],
   "source": [
    "x_train, y_train=x[:800],y[:800]\n",
    "x_val, y_val=x[800:1100],y[800:1100]\n",
    "x_test, y_test=x[1100:],y[1100:]"
   ]
  },
  {
   "cell_type": "code",
   "execution_count": 8,
   "metadata": {},
   "outputs": [
    {
     "data": {
      "text/html": [
       "<pre style=\"white-space:pre;overflow-x:auto;line-height:normal;font-family:Menlo,'DejaVu Sans Mono',consolas,'Courier New',monospace\"><span style=\"font-weight: bold\">Model: \"sequential\"</span>\n",
       "</pre>\n"
      ],
      "text/plain": [
       "\u001b[1mModel: \"sequential\"\u001b[0m\n"
      ]
     },
     "metadata": {},
     "output_type": "display_data"
    },
    {
     "data": {
      "text/html": [
       "<pre style=\"white-space:pre;overflow-x:auto;line-height:normal;font-family:Menlo,'DejaVu Sans Mono',consolas,'Courier New',monospace\">┏━━━━━━━━━━━━━━━━━━━━━━━━━━━━━━━━━┳━━━━━━━━━━━━━━━━━━━━━━━━┳━━━━━━━━━━━━━━━┓\n",
       "┃<span style=\"font-weight: bold\"> Layer (type)                    </span>┃<span style=\"font-weight: bold\"> Output Shape           </span>┃<span style=\"font-weight: bold\">       Param # </span>┃\n",
       "┡━━━━━━━━━━━━━━━━━━━━━━━━━━━━━━━━━╇━━━━━━━━━━━━━━━━━━━━━━━━╇━━━━━━━━━━━━━━━┩\n",
       "│ lstm (<span style=\"color: #0087ff; text-decoration-color: #0087ff\">LSTM</span>)                     │ (<span style=\"color: #00d7ff; text-decoration-color: #00d7ff\">None</span>, <span style=\"color: #00af00; text-decoration-color: #00af00\">1028</span>)           │     <span style=\"color: #00af00; text-decoration-color: #00af00\">4,235,360</span> │\n",
       "├─────────────────────────────────┼────────────────────────┼───────────────┤\n",
       "│ dense (<span style=\"color: #0087ff; text-decoration-color: #0087ff\">Dense</span>)                   │ (<span style=\"color: #00d7ff; text-decoration-color: #00d7ff\">None</span>, <span style=\"color: #00af00; text-decoration-color: #00af00\">512</span>)            │       <span style=\"color: #00af00; text-decoration-color: #00af00\">526,848</span> │\n",
       "├─────────────────────────────────┼────────────────────────┼───────────────┤\n",
       "│ dense_1 (<span style=\"color: #0087ff; text-decoration-color: #0087ff\">Dense</span>)                 │ (<span style=\"color: #00d7ff; text-decoration-color: #00d7ff\">None</span>, <span style=\"color: #00af00; text-decoration-color: #00af00\">256</span>)            │       <span style=\"color: #00af00; text-decoration-color: #00af00\">131,328</span> │\n",
       "├─────────────────────────────────┼────────────────────────┼───────────────┤\n",
       "│ dense_2 (<span style=\"color: #0087ff; text-decoration-color: #0087ff\">Dense</span>)                 │ (<span style=\"color: #00d7ff; text-decoration-color: #00d7ff\">None</span>, <span style=\"color: #00af00; text-decoration-color: #00af00\">128</span>)            │        <span style=\"color: #00af00; text-decoration-color: #00af00\">32,896</span> │\n",
       "├─────────────────────────────────┼────────────────────────┼───────────────┤\n",
       "│ dense_3 (<span style=\"color: #0087ff; text-decoration-color: #0087ff\">Dense</span>)                 │ (<span style=\"color: #00d7ff; text-decoration-color: #00d7ff\">None</span>, <span style=\"color: #00af00; text-decoration-color: #00af00\">64</span>)             │         <span style=\"color: #00af00; text-decoration-color: #00af00\">8,256</span> │\n",
       "├─────────────────────────────────┼────────────────────────┼───────────────┤\n",
       "│ dense_4 (<span style=\"color: #0087ff; text-decoration-color: #0087ff\">Dense</span>)                 │ (<span style=\"color: #00d7ff; text-decoration-color: #00d7ff\">None</span>, <span style=\"color: #00af00; text-decoration-color: #00af00\">32</span>)             │         <span style=\"color: #00af00; text-decoration-color: #00af00\">2,080</span> │\n",
       "├─────────────────────────────────┼────────────────────────┼───────────────┤\n",
       "│ dense_5 (<span style=\"color: #0087ff; text-decoration-color: #0087ff\">Dense</span>)                 │ (<span style=\"color: #00d7ff; text-decoration-color: #00d7ff\">None</span>, <span style=\"color: #00af00; text-decoration-color: #00af00\">1</span>)              │            <span style=\"color: #00af00; text-decoration-color: #00af00\">33</span> │\n",
       "└─────────────────────────────────┴────────────────────────┴───────────────┘\n",
       "</pre>\n"
      ],
      "text/plain": [
       "┏━━━━━━━━━━━━━━━━━━━━━━━━━━━━━━━━━┳━━━━━━━━━━━━━━━━━━━━━━━━┳━━━━━━━━━━━━━━━┓\n",
       "┃\u001b[1m \u001b[0m\u001b[1mLayer (type)                   \u001b[0m\u001b[1m \u001b[0m┃\u001b[1m \u001b[0m\u001b[1mOutput Shape          \u001b[0m\u001b[1m \u001b[0m┃\u001b[1m \u001b[0m\u001b[1m      Param #\u001b[0m\u001b[1m \u001b[0m┃\n",
       "┡━━━━━━━━━━━━━━━━━━━━━━━━━━━━━━━━━╇━━━━━━━━━━━━━━━━━━━━━━━━╇━━━━━━━━━━━━━━━┩\n",
       "│ lstm (\u001b[38;5;33mLSTM\u001b[0m)                     │ (\u001b[38;5;45mNone\u001b[0m, \u001b[38;5;34m1028\u001b[0m)           │     \u001b[38;5;34m4,235,360\u001b[0m │\n",
       "├─────────────────────────────────┼────────────────────────┼───────────────┤\n",
       "│ dense (\u001b[38;5;33mDense\u001b[0m)                   │ (\u001b[38;5;45mNone\u001b[0m, \u001b[38;5;34m512\u001b[0m)            │       \u001b[38;5;34m526,848\u001b[0m │\n",
       "├─────────────────────────────────┼────────────────────────┼───────────────┤\n",
       "│ dense_1 (\u001b[38;5;33mDense\u001b[0m)                 │ (\u001b[38;5;45mNone\u001b[0m, \u001b[38;5;34m256\u001b[0m)            │       \u001b[38;5;34m131,328\u001b[0m │\n",
       "├─────────────────────────────────┼────────────────────────┼───────────────┤\n",
       "│ dense_2 (\u001b[38;5;33mDense\u001b[0m)                 │ (\u001b[38;5;45mNone\u001b[0m, \u001b[38;5;34m128\u001b[0m)            │        \u001b[38;5;34m32,896\u001b[0m │\n",
       "├─────────────────────────────────┼────────────────────────┼───────────────┤\n",
       "│ dense_3 (\u001b[38;5;33mDense\u001b[0m)                 │ (\u001b[38;5;45mNone\u001b[0m, \u001b[38;5;34m64\u001b[0m)             │         \u001b[38;5;34m8,256\u001b[0m │\n",
       "├─────────────────────────────────┼────────────────────────┼───────────────┤\n",
       "│ dense_4 (\u001b[38;5;33mDense\u001b[0m)                 │ (\u001b[38;5;45mNone\u001b[0m, \u001b[38;5;34m32\u001b[0m)             │         \u001b[38;5;34m2,080\u001b[0m │\n",
       "├─────────────────────────────────┼────────────────────────┼───────────────┤\n",
       "│ dense_5 (\u001b[38;5;33mDense\u001b[0m)                 │ (\u001b[38;5;45mNone\u001b[0m, \u001b[38;5;34m1\u001b[0m)              │            \u001b[38;5;34m33\u001b[0m │\n",
       "└─────────────────────────────────┴────────────────────────┴───────────────┘\n"
      ]
     },
     "metadata": {},
     "output_type": "display_data"
    },
    {
     "data": {
      "text/html": [
       "<pre style=\"white-space:pre;overflow-x:auto;line-height:normal;font-family:Menlo,'DejaVu Sans Mono',consolas,'Courier New',monospace\"><span style=\"font-weight: bold\"> Total params: </span><span style=\"color: #00af00; text-decoration-color: #00af00\">4,936,801</span> (18.83 MB)\n",
       "</pre>\n"
      ],
      "text/plain": [
       "\u001b[1m Total params: \u001b[0m\u001b[38;5;34m4,936,801\u001b[0m (18.83 MB)\n"
      ]
     },
     "metadata": {},
     "output_type": "display_data"
    },
    {
     "data": {
      "text/html": [
       "<pre style=\"white-space:pre;overflow-x:auto;line-height:normal;font-family:Menlo,'DejaVu Sans Mono',consolas,'Courier New',monospace\"><span style=\"font-weight: bold\"> Trainable params: </span><span style=\"color: #00af00; text-decoration-color: #00af00\">4,936,801</span> (18.83 MB)\n",
       "</pre>\n"
      ],
      "text/plain": [
       "\u001b[1m Trainable params: \u001b[0m\u001b[38;5;34m4,936,801\u001b[0m (18.83 MB)\n"
      ]
     },
     "metadata": {},
     "output_type": "display_data"
    },
    {
     "data": {
      "text/html": [
       "<pre style=\"white-space:pre;overflow-x:auto;line-height:normal;font-family:Menlo,'DejaVu Sans Mono',consolas,'Courier New',monospace\"><span style=\"font-weight: bold\"> Non-trainable params: </span><span style=\"color: #00af00; text-decoration-color: #00af00\">0</span> (0.00 B)\n",
       "</pre>\n"
      ],
      "text/plain": [
       "\u001b[1m Non-trainable params: \u001b[0m\u001b[38;5;34m0\u001b[0m (0.00 B)\n"
      ]
     },
     "metadata": {},
     "output_type": "display_data"
    }
   ],
   "source": [
    "from tensorflow.keras.models import Sequential\n",
    "from tensorflow.keras.layers import *\n",
    "from tensorflow.keras.callbacks import ModelCheckpoint,EarlyStopping,CSVLogger\n",
    "from tensorflow.keras.losses import MeanSquaredError\n",
    "from tensorflow.keras.metrics import RootMeanSquaredError\n",
    "from tensorflow.keras.optimizers import Adam\n",
    "\n",
    "models= Sequential()\n",
    "models.add(InputLayer((50,1)))\n",
    "models.add(LSTM(1028))\n",
    "models.add(Dense(512,'relu'))\n",
    "models.add(Dense(256,'relu'))\n",
    "models.add(Dense(128,'relu'))\n",
    "models.add(Dense(64,'relu'))\n",
    "models.add(Dense(32,'relu'))\n",
    "models.add(Dense(1,'linear'))\n",
    "\n",
    "models.summary()"
   ]
  },
  {
   "cell_type": "code",
   "execution_count": 9,
   "metadata": {},
   "outputs": [],
   "source": [
    "cp= ModelCheckpoint('models.keras', save_best_only=True)\n",
    "models.compile(loss=MeanSquaredError(),optimizer=Adam(learning_rate=.0001),metrics=[RootMeanSquaredError()])"
   ]
  },
  {
   "cell_type": "code",
   "execution_count": 10,
   "metadata": {},
   "outputs": [
    {
     "name": "stdout",
     "output_type": "stream",
     "text": [
      "Epoch 1/200\n",
      "\u001b[1m25/25\u001b[0m \u001b[32m━━━━━━━━━━━━━━━━━━━━\u001b[0m\u001b[37m\u001b[0m \u001b[1m2s\u001b[0m 46ms/step - loss: 47875936.0000 - root_mean_squared_error: 6918.1367 - val_loss: 34179380.0000 - val_root_mean_squared_error: 5846.3135\n",
      "Epoch 2/200\n",
      "\u001b[1m25/25\u001b[0m \u001b[32m━━━━━━━━━━━━━━━━━━━━\u001b[0m\u001b[37m\u001b[0m \u001b[1m1s\u001b[0m 38ms/step - loss: 46433256.0000 - root_mean_squared_error: 6813.3672 - val_loss: 34090172.0000 - val_root_mean_squared_error: 5838.6792\n",
      "Epoch 3/200\n",
      "\u001b[1m25/25\u001b[0m \u001b[32m━━━━━━━━━━━━━━━━━━━━\u001b[0m\u001b[37m\u001b[0m \u001b[1m1s\u001b[0m 35ms/step - loss: 44949520.0000 - root_mean_squared_error: 6699.0200 - val_loss: 33784884.0000 - val_root_mean_squared_error: 5812.4766\n",
      "Epoch 4/200\n",
      "\u001b[1m25/25\u001b[0m \u001b[32m━━━━━━━━━━━━━━━━━━━━\u001b[0m\u001b[37m\u001b[0m \u001b[1m1s\u001b[0m 36ms/step - loss: 45967916.0000 - root_mean_squared_error: 6779.3457 - val_loss: 32883276.0000 - val_root_mean_squared_error: 5734.3940\n",
      "Epoch 5/200\n",
      "\u001b[1m25/25\u001b[0m \u001b[32m━━━━━━━━━━━━━━━━━━━━\u001b[0m\u001b[37m\u001b[0m \u001b[1m1s\u001b[0m 37ms/step - loss: 44931704.0000 - root_mean_squared_error: 6702.3438 - val_loss: 30613508.0000 - val_root_mean_squared_error: 5532.9473\n",
      "Epoch 6/200\n",
      "\u001b[1m25/25\u001b[0m \u001b[32m━━━━━━━━━━━━━━━━━━━━\u001b[0m\u001b[37m\u001b[0m \u001b[1m1s\u001b[0m 34ms/step - loss: 40381368.0000 - root_mean_squared_error: 6353.4727 - val_loss: 25724050.0000 - val_root_mean_squared_error: 5071.8882\n",
      "Epoch 7/200\n",
      "\u001b[1m25/25\u001b[0m \u001b[32m━━━━━━━━━━━━━━━━━━━━\u001b[0m\u001b[37m\u001b[0m \u001b[1m1s\u001b[0m 36ms/step - loss: 34036888.0000 - root_mean_squared_error: 5833.5371 - val_loss: 17069202.0000 - val_root_mean_squared_error: 4131.4893\n",
      "Epoch 8/200\n",
      "\u001b[1m25/25\u001b[0m \u001b[32m━━━━━━━━━━━━━━━━━━━━\u001b[0m\u001b[37m\u001b[0m \u001b[1m1s\u001b[0m 35ms/step - loss: 23227290.0000 - root_mean_squared_error: 4816.4604 - val_loss: 6558096.5000 - val_root_mean_squared_error: 2560.8782\n",
      "Epoch 9/200\n",
      "\u001b[1m25/25\u001b[0m \u001b[32m━━━━━━━━━━━━━━━━━━━━\u001b[0m\u001b[37m\u001b[0m \u001b[1m1s\u001b[0m 35ms/step - loss: 11474209.0000 - root_mean_squared_error: 3377.8125 - val_loss: 1759089.8750 - val_root_mean_squared_error: 1326.3069\n",
      "Epoch 10/200\n",
      "\u001b[1m25/25\u001b[0m \u001b[32m━━━━━━━━━━━━━━━━━━━━\u001b[0m\u001b[37m\u001b[0m \u001b[1m1s\u001b[0m 32ms/step - loss: 5131797.0000 - root_mean_squared_error: 2264.6838 - val_loss: 2711362.2500 - val_root_mean_squared_error: 1646.6215\n",
      "Epoch 11/200\n",
      "\u001b[1m25/25\u001b[0m \u001b[32m━━━━━━━━━━━━━━━━━━━━\u001b[0m\u001b[37m\u001b[0m \u001b[1m1s\u001b[0m 33ms/step - loss: 4628175.0000 - root_mean_squared_error: 2150.6626 - val_loss: 2126892.2500 - val_root_mean_squared_error: 1458.3868\n",
      "Epoch 12/200\n",
      "\u001b[1m25/25\u001b[0m \u001b[32m━━━━━━━━━━━━━━━━━━━━\u001b[0m\u001b[37m\u001b[0m \u001b[1m1s\u001b[0m 31ms/step - loss: 4622643.5000 - root_mean_squared_error: 2148.8867 - val_loss: 1835758.1250 - val_root_mean_squared_error: 1354.9015\n",
      "Epoch 13/200\n",
      "\u001b[1m25/25\u001b[0m \u001b[32m━━━━━━━━━━━━━━━━━━━━\u001b[0m\u001b[37m\u001b[0m \u001b[1m1s\u001b[0m 37ms/step - loss: 4137899.5000 - root_mean_squared_error: 2032.3528 - val_loss: 1661802.1250 - val_root_mean_squared_error: 1289.1090\n",
      "Epoch 14/200\n",
      "\u001b[1m25/25\u001b[0m \u001b[32m━━━━━━━━━━━━━━━━━━━━\u001b[0m\u001b[37m\u001b[0m \u001b[1m1s\u001b[0m 37ms/step - loss: 3350031.0000 - root_mean_squared_error: 1829.5072 - val_loss: 1174900.8750 - val_root_mean_squared_error: 1083.9285\n",
      "Epoch 15/200\n",
      "\u001b[1m25/25\u001b[0m \u001b[32m━━━━━━━━━━━━━━━━━━━━\u001b[0m\u001b[37m\u001b[0m \u001b[1m1s\u001b[0m 39ms/step - loss: 2631923.5000 - root_mean_squared_error: 1621.7183 - val_loss: 874119.1250 - val_root_mean_squared_error: 934.9434\n",
      "Epoch 16/200\n",
      "\u001b[1m25/25\u001b[0m \u001b[32m━━━━━━━━━━━━━━━━━━━━\u001b[0m\u001b[37m\u001b[0m \u001b[1m1s\u001b[0m 37ms/step - loss: 2175565.5000 - root_mean_squared_error: 1473.3479 - val_loss: 693010.8125 - val_root_mean_squared_error: 832.4727\n",
      "Epoch 17/200\n",
      "\u001b[1m25/25\u001b[0m \u001b[32m━━━━━━━━━━━━━━━━━━━━\u001b[0m\u001b[37m\u001b[0m \u001b[1m1s\u001b[0m 37ms/step - loss: 1633588.7500 - root_mean_squared_error: 1275.6394 - val_loss: 474039.5625 - val_root_mean_squared_error: 688.5053\n",
      "Epoch 18/200\n",
      "\u001b[1m25/25\u001b[0m \u001b[32m━━━━━━━━━━━━━━━━━━━━\u001b[0m\u001b[37m\u001b[0m \u001b[1m1s\u001b[0m 37ms/step - loss: 1141788.8750 - root_mean_squared_error: 1066.3378 - val_loss: 290985.1875 - val_root_mean_squared_error: 539.4304\n",
      "Epoch 19/200\n",
      "\u001b[1m25/25\u001b[0m \u001b[32m━━━━━━━━━━━━━━━━━━━━\u001b[0m\u001b[37m\u001b[0m \u001b[1m1s\u001b[0m 36ms/step - loss: 808030.2500 - root_mean_squared_error: 897.5093 - val_loss: 185508.6250 - val_root_mean_squared_error: 430.7071\n",
      "Epoch 20/200\n",
      "\u001b[1m25/25\u001b[0m \u001b[32m━━━━━━━━━━━━━━━━━━━━\u001b[0m\u001b[37m\u001b[0m \u001b[1m1s\u001b[0m 37ms/step - loss: 648983.4375 - root_mean_squared_error: 804.4520 - val_loss: 126478.3359 - val_root_mean_squared_error: 355.6379\n",
      "Epoch 21/200\n",
      "\u001b[1m25/25\u001b[0m \u001b[32m━━━━━━━━━━━━━━━━━━━━\u001b[0m\u001b[37m\u001b[0m \u001b[1m1s\u001b[0m 37ms/step - loss: 481867.8438 - root_mean_squared_error: 692.3405 - val_loss: 94010.5078 - val_root_mean_squared_error: 306.6113\n",
      "Epoch 22/200\n",
      "\u001b[1m25/25\u001b[0m \u001b[32m━━━━━━━━━━━━━━━━━━━━\u001b[0m\u001b[37m\u001b[0m \u001b[1m1s\u001b[0m 37ms/step - loss: 440791.8750 - root_mean_squared_error: 659.2373 - val_loss: 77454.5547 - val_root_mean_squared_error: 278.3066\n",
      "Epoch 23/200\n",
      "\u001b[1m25/25\u001b[0m \u001b[32m━━━━━━━━━━━━━━━━━━━━\u001b[0m\u001b[37m\u001b[0m \u001b[1m1s\u001b[0m 37ms/step - loss: 299956.4375 - root_mean_squared_error: 547.3803 - val_loss: 40138.1484 - val_root_mean_squared_error: 200.3451\n",
      "Epoch 24/200\n",
      "\u001b[1m25/25\u001b[0m \u001b[32m━━━━━━━━━━━━━━━━━━━━\u001b[0m\u001b[37m\u001b[0m \u001b[1m1s\u001b[0m 31ms/step - loss: 234911.8125 - root_mean_squared_error: 482.7600 - val_loss: 40330.0586 - val_root_mean_squared_error: 200.8235\n",
      "Epoch 25/200\n",
      "\u001b[1m25/25\u001b[0m \u001b[32m━━━━━━━━━━━━━━━━━━━━\u001b[0m\u001b[37m\u001b[0m \u001b[1m1s\u001b[0m 39ms/step - loss: 164398.9219 - root_mean_squared_error: 404.1825 - val_loss: 27779.5801 - val_root_mean_squared_error: 166.6721\n",
      "Epoch 26/200\n",
      "\u001b[1m25/25\u001b[0m \u001b[32m━━━━━━━━━━━━━━━━━━━━\u001b[0m\u001b[37m\u001b[0m \u001b[1m1s\u001b[0m 36ms/step - loss: 129161.2578 - root_mean_squared_error: 358.7595 - val_loss: 20058.4102 - val_root_mean_squared_error: 141.6277\n",
      "Epoch 27/200\n",
      "\u001b[1m25/25\u001b[0m \u001b[32m━━━━━━━━━━━━━━━━━━━━\u001b[0m\u001b[37m\u001b[0m \u001b[1m1s\u001b[0m 37ms/step - loss: 101622.6719 - root_mean_squared_error: 316.3620 - val_loss: 14632.8496 - val_root_mean_squared_error: 120.9663\n",
      "Epoch 28/200\n",
      "\u001b[1m25/25\u001b[0m \u001b[32m━━━━━━━━━━━━━━━━━━━━\u001b[0m\u001b[37m\u001b[0m \u001b[1m1s\u001b[0m 37ms/step - loss: 82144.9922 - root_mean_squared_error: 285.6889 - val_loss: 9984.9756 - val_root_mean_squared_error: 99.9249\n",
      "Epoch 29/200\n",
      "\u001b[1m25/25\u001b[0m \u001b[32m━━━━━━━━━━━━━━━━━━━━\u001b[0m\u001b[37m\u001b[0m \u001b[1m1s\u001b[0m 31ms/step - loss: 79581.8438 - root_mean_squared_error: 281.3086 - val_loss: 26611.0664 - val_root_mean_squared_error: 163.1290\n",
      "Epoch 30/200\n",
      "\u001b[1m25/25\u001b[0m \u001b[32m━━━━━━━━━━━━━━━━━━━━\u001b[0m\u001b[37m\u001b[0m \u001b[1m1s\u001b[0m 31ms/step - loss: 76019.0859 - root_mean_squared_error: 274.5518 - val_loss: 19571.3770 - val_root_mean_squared_error: 139.8977\n",
      "Epoch 31/200\n",
      "\u001b[1m25/25\u001b[0m \u001b[32m━━━━━━━━━━━━━━━━━━━━\u001b[0m\u001b[37m\u001b[0m \u001b[1m1s\u001b[0m 37ms/step - loss: 61089.5352 - root_mean_squared_error: 246.6813 - val_loss: 6281.6431 - val_root_mean_squared_error: 79.2568\n",
      "Epoch 32/200\n",
      "\u001b[1m25/25\u001b[0m \u001b[32m━━━━━━━━━━━━━━━━━━━━\u001b[0m\u001b[37m\u001b[0m \u001b[1m1s\u001b[0m 31ms/step - loss: 42808.0938 - root_mean_squared_error: 204.2914 - val_loss: 10408.0176 - val_root_mean_squared_error: 102.0197\n",
      "Epoch 33/200\n",
      "\u001b[1m25/25\u001b[0m \u001b[32m━━━━━━━━━━━━━━━━━━━━\u001b[0m\u001b[37m\u001b[0m \u001b[1m1s\u001b[0m 30ms/step - loss: 52302.1523 - root_mean_squared_error: 228.0426 - val_loss: 7239.1123 - val_root_mean_squared_error: 85.0830\n",
      "Epoch 34/200\n",
      "\u001b[1m25/25\u001b[0m \u001b[32m━━━━━━━━━━━━━━━━━━━━\u001b[0m\u001b[37m\u001b[0m \u001b[1m1s\u001b[0m 31ms/step - loss: 45461.8633 - root_mean_squared_error: 211.1122 - val_loss: 9897.7598 - val_root_mean_squared_error: 99.4875\n",
      "Epoch 35/200\n",
      "\u001b[1m25/25\u001b[0m \u001b[32m━━━━━━━━━━━━━━━━━━━━\u001b[0m\u001b[37m\u001b[0m \u001b[1m1s\u001b[0m 31ms/step - loss: 37356.8203 - root_mean_squared_error: 192.5215 - val_loss: 7582.3608 - val_root_mean_squared_error: 87.0768\n",
      "Epoch 36/200\n",
      "\u001b[1m25/25\u001b[0m \u001b[32m━━━━━━━━━━━━━━━━━━━━\u001b[0m\u001b[37m\u001b[0m \u001b[1m1s\u001b[0m 36ms/step - loss: 33940.1680 - root_mean_squared_error: 183.6673 - val_loss: 4412.2642 - val_root_mean_squared_error: 66.4249\n",
      "Epoch 37/200\n",
      "\u001b[1m25/25\u001b[0m \u001b[32m━━━━━━━━━━━━━━━━━━━━\u001b[0m\u001b[37m\u001b[0m \u001b[1m1s\u001b[0m 31ms/step - loss: 30102.8652 - root_mean_squared_error: 172.8269 - val_loss: 11848.0312 - val_root_mean_squared_error: 108.8487\n",
      "Epoch 38/200\n",
      "\u001b[1m25/25\u001b[0m \u001b[32m━━━━━━━━━━━━━━━━━━━━\u001b[0m\u001b[37m\u001b[0m \u001b[1m1s\u001b[0m 32ms/step - loss: 22389.4648 - root_mean_squared_error: 149.4095 - val_loss: 11764.2168 - val_root_mean_squared_error: 108.4630\n",
      "Epoch 39/200\n",
      "\u001b[1m25/25\u001b[0m \u001b[32m━━━━━━━━━━━━━━━━━━━━\u001b[0m\u001b[37m\u001b[0m \u001b[1m1s\u001b[0m 31ms/step - loss: 33422.5391 - root_mean_squared_error: 182.6040 - val_loss: 6583.4019 - val_root_mean_squared_error: 81.1382\n",
      "Epoch 40/200\n",
      "\u001b[1m25/25\u001b[0m \u001b[32m━━━━━━━━━━━━━━━━━━━━\u001b[0m\u001b[37m\u001b[0m \u001b[1m1s\u001b[0m 31ms/step - loss: 31654.5840 - root_mean_squared_error: 177.6756 - val_loss: 13756.1172 - val_root_mean_squared_error: 117.2865\n",
      "Epoch 41/200\n",
      "\u001b[1m25/25\u001b[0m \u001b[32m━━━━━━━━━━━━━━━━━━━━\u001b[0m\u001b[37m\u001b[0m \u001b[1m1s\u001b[0m 30ms/step - loss: 23618.7637 - root_mean_squared_error: 153.2984 - val_loss: 6860.9390 - val_root_mean_squared_error: 82.8308\n",
      "Epoch 42/200\n",
      "\u001b[1m25/25\u001b[0m \u001b[32m━━━━━━━━━━━━━━━━━━━━\u001b[0m\u001b[37m\u001b[0m \u001b[1m1s\u001b[0m 31ms/step - loss: 38122.4727 - root_mean_squared_error: 195.1591 - val_loss: 8177.3394 - val_root_mean_squared_error: 90.4286\n",
      "Epoch 43/200\n",
      "\u001b[1m25/25\u001b[0m \u001b[32m━━━━━━━━━━━━━━━━━━━━\u001b[0m\u001b[37m\u001b[0m \u001b[1m1s\u001b[0m 36ms/step - loss: 25693.9863 - root_mean_squared_error: 160.1316 - val_loss: 4104.4927 - val_root_mean_squared_error: 64.0663\n",
      "Epoch 44/200\n",
      "\u001b[1m25/25\u001b[0m \u001b[32m━━━━━━━━━━━━━━━━━━━━\u001b[0m\u001b[37m\u001b[0m \u001b[1m1s\u001b[0m 31ms/step - loss: 23229.9414 - root_mean_squared_error: 152.1905 - val_loss: 19681.4043 - val_root_mean_squared_error: 140.2904\n",
      "Epoch 45/200\n",
      "\u001b[1m25/25\u001b[0m \u001b[32m━━━━━━━━━━━━━━━━━━━━\u001b[0m\u001b[37m\u001b[0m \u001b[1m1s\u001b[0m 31ms/step - loss: 27332.2773 - root_mean_squared_error: 165.1867 - val_loss: 5351.7300 - val_root_mean_squared_error: 73.1555\n",
      "Epoch 46/200\n",
      "\u001b[1m25/25\u001b[0m \u001b[32m━━━━━━━━━━━━━━━━━━━━\u001b[0m\u001b[37m\u001b[0m \u001b[1m1s\u001b[0m 32ms/step - loss: 21566.6133 - root_mean_squared_error: 146.7596 - val_loss: 6261.5913 - val_root_mean_squared_error: 79.1302\n",
      "Epoch 47/200\n",
      "\u001b[1m25/25\u001b[0m \u001b[32m━━━━━━━━━━━━━━━━━━━━\u001b[0m\u001b[37m\u001b[0m \u001b[1m1s\u001b[0m 31ms/step - loss: 24424.5312 - root_mean_squared_error: 156.0057 - val_loss: 39015.1250 - val_root_mean_squared_error: 197.5225\n",
      "Epoch 48/200\n",
      "\u001b[1m25/25\u001b[0m \u001b[32m━━━━━━━━━━━━━━━━━━━━\u001b[0m\u001b[37m\u001b[0m \u001b[1m1s\u001b[0m 31ms/step - loss: 32196.5391 - root_mean_squared_error: 178.0362 - val_loss: 6170.9590 - val_root_mean_squared_error: 78.5555\n",
      "Epoch 49/200\n",
      "\u001b[1m25/25\u001b[0m \u001b[32m━━━━━━━━━━━━━━━━━━━━\u001b[0m\u001b[37m\u001b[0m \u001b[1m1s\u001b[0m 31ms/step - loss: 21172.6445 - root_mean_squared_error: 145.3281 - val_loss: 4748.6978 - val_root_mean_squared_error: 68.9108\n",
      "Epoch 50/200\n",
      "\u001b[1m25/25\u001b[0m \u001b[32m━━━━━━━━━━━━━━━━━━━━\u001b[0m\u001b[37m\u001b[0m \u001b[1m1s\u001b[0m 30ms/step - loss: 20789.2773 - root_mean_squared_error: 143.2819 - val_loss: 12746.3555 - val_root_mean_squared_error: 112.8998\n",
      "Epoch 51/200\n",
      "\u001b[1m25/25\u001b[0m \u001b[32m━━━━━━━━━━━━━━━━━━━━\u001b[0m\u001b[37m\u001b[0m \u001b[1m1s\u001b[0m 31ms/step - loss: 29082.6191 - root_mean_squared_error: 170.2246 - val_loss: 8308.9307 - val_root_mean_squared_error: 91.1533\n",
      "Epoch 52/200\n",
      "\u001b[1m25/25\u001b[0m \u001b[32m━━━━━━━━━━━━━━━━━━━━\u001b[0m\u001b[37m\u001b[0m \u001b[1m1s\u001b[0m 38ms/step - loss: 17290.9434 - root_mean_squared_error: 131.2654 - val_loss: 3520.5295 - val_root_mean_squared_error: 59.3340\n",
      "Epoch 53/200\n",
      "\u001b[1m25/25\u001b[0m \u001b[32m━━━━━━━━━━━━━━━━━━━━\u001b[0m\u001b[37m\u001b[0m \u001b[1m1s\u001b[0m 31ms/step - loss: 20596.6777 - root_mean_squared_error: 143.3504 - val_loss: 16834.7969 - val_root_mean_squared_error: 129.7490\n",
      "Epoch 54/200\n",
      "\u001b[1m25/25\u001b[0m \u001b[32m━━━━━━━━━━━━━━━━━━━━\u001b[0m\u001b[37m\u001b[0m \u001b[1m1s\u001b[0m 31ms/step - loss: 20950.0840 - root_mean_squared_error: 144.5460 - val_loss: 6121.0112 - val_root_mean_squared_error: 78.2369\n",
      "Epoch 55/200\n",
      "\u001b[1m25/25\u001b[0m \u001b[32m━━━━━━━━━━━━━━━━━━━━\u001b[0m\u001b[37m\u001b[0m \u001b[1m1s\u001b[0m 33ms/step - loss: 17818.3008 - root_mean_squared_error: 133.3827 - val_loss: 7706.6074 - val_root_mean_squared_error: 87.7873\n",
      "Epoch 56/200\n",
      "\u001b[1m25/25\u001b[0m \u001b[32m━━━━━━━━━━━━━━━━━━━━\u001b[0m\u001b[37m\u001b[0m \u001b[1m1s\u001b[0m 33ms/step - loss: 18977.6230 - root_mean_squared_error: 137.5536 - val_loss: 14699.9814 - val_root_mean_squared_error: 121.2435\n",
      "Epoch 57/200\n",
      "\u001b[1m25/25\u001b[0m \u001b[32m━━━━━━━━━━━━━━━━━━━━\u001b[0m\u001b[37m\u001b[0m \u001b[1m1s\u001b[0m 30ms/step - loss: 26989.8242 - root_mean_squared_error: 163.7206 - val_loss: 17011.2578 - val_root_mean_squared_error: 130.4272\n",
      "Epoch 58/200\n",
      "\u001b[1m25/25\u001b[0m \u001b[32m━━━━━━━━━━━━━━━━━━━━\u001b[0m\u001b[37m\u001b[0m \u001b[1m1s\u001b[0m 30ms/step - loss: 21768.7910 - root_mean_squared_error: 147.2664 - val_loss: 6749.7891 - val_root_mean_squared_error: 82.1571\n",
      "Epoch 59/200\n",
      "\u001b[1m25/25\u001b[0m \u001b[32m━━━━━━━━━━━━━━━━━━━━\u001b[0m\u001b[37m\u001b[0m \u001b[1m1s\u001b[0m 30ms/step - loss: 20016.2754 - root_mean_squared_error: 139.9767 - val_loss: 11835.5850 - val_root_mean_squared_error: 108.7915\n",
      "Epoch 60/200\n",
      "\u001b[1m25/25\u001b[0m \u001b[32m━━━━━━━━━━━━━━━━━━━━\u001b[0m\u001b[37m\u001b[0m \u001b[1m1s\u001b[0m 36ms/step - loss: 27682.5059 - root_mean_squared_error: 165.7628 - val_loss: 3178.9905 - val_root_mean_squared_error: 56.3825\n",
      "Epoch 61/200\n",
      "\u001b[1m25/25\u001b[0m \u001b[32m━━━━━━━━━━━━━━━━━━━━\u001b[0m\u001b[37m\u001b[0m \u001b[1m1s\u001b[0m 30ms/step - loss: 18148.4453 - root_mean_squared_error: 134.5577 - val_loss: 3917.6479 - val_root_mean_squared_error: 62.5911\n",
      "Epoch 62/200\n",
      "\u001b[1m25/25\u001b[0m \u001b[32m━━━━━━━━━━━━━━━━━━━━\u001b[0m\u001b[37m\u001b[0m \u001b[1m1s\u001b[0m 30ms/step - loss: 23471.7852 - root_mean_squared_error: 153.0669 - val_loss: 21531.8926 - val_root_mean_squared_error: 146.7375\n",
      "Epoch 63/200\n",
      "\u001b[1m25/25\u001b[0m \u001b[32m━━━━━━━━━━━━━━━━━━━━\u001b[0m\u001b[37m\u001b[0m \u001b[1m1s\u001b[0m 31ms/step - loss: 28138.2539 - root_mean_squared_error: 167.6857 - val_loss: 3753.5234 - val_root_mean_squared_error: 61.2660\n",
      "Epoch 64/200\n",
      "\u001b[1m25/25\u001b[0m \u001b[32m━━━━━━━━━━━━━━━━━━━━\u001b[0m\u001b[37m\u001b[0m \u001b[1m1s\u001b[0m 31ms/step - loss: 29208.4375 - root_mean_squared_error: 168.8693 - val_loss: 4030.5779 - val_root_mean_squared_error: 63.4868\n",
      "Epoch 65/200\n",
      "\u001b[1m25/25\u001b[0m \u001b[32m━━━━━━━━━━━━━━━━━━━━\u001b[0m\u001b[37m\u001b[0m \u001b[1m1s\u001b[0m 30ms/step - loss: 14184.5459 - root_mean_squared_error: 118.6427 - val_loss: 4403.7285 - val_root_mean_squared_error: 66.3606\n",
      "Epoch 66/200\n",
      "\u001b[1m25/25\u001b[0m \u001b[32m━━━━━━━━━━━━━━━━━━━━\u001b[0m\u001b[37m\u001b[0m \u001b[1m1s\u001b[0m 35ms/step - loss: 19631.4785 - root_mean_squared_error: 139.8797 - val_loss: 3008.0486 - val_root_mean_squared_error: 54.8457\n",
      "Epoch 67/200\n",
      "\u001b[1m25/25\u001b[0m \u001b[32m━━━━━━━━━━━━━━━━━━━━\u001b[0m\u001b[37m\u001b[0m \u001b[1m1s\u001b[0m 30ms/step - loss: 18335.4277 - root_mean_squared_error: 134.8096 - val_loss: 5743.6489 - val_root_mean_squared_error: 75.7869\n",
      "Epoch 68/200\n",
      "\u001b[1m25/25\u001b[0m \u001b[32m━━━━━━━━━━━━━━━━━━━━\u001b[0m\u001b[37m\u001b[0m \u001b[1m1s\u001b[0m 30ms/step - loss: 18501.9414 - root_mean_squared_error: 135.7416 - val_loss: 4945.7573 - val_root_mean_squared_error: 70.3261\n",
      "Epoch 69/200\n",
      "\u001b[1m25/25\u001b[0m \u001b[32m━━━━━━━━━━━━━━━━━━━━\u001b[0m\u001b[37m\u001b[0m \u001b[1m1s\u001b[0m 32ms/step - loss: 19082.1484 - root_mean_squared_error: 137.6726 - val_loss: 10023.9355 - val_root_mean_squared_error: 100.1196\n",
      "Epoch 70/200\n",
      "\u001b[1m25/25\u001b[0m \u001b[32m━━━━━━━━━━━━━━━━━━━━\u001b[0m\u001b[37m\u001b[0m \u001b[1m1s\u001b[0m 34ms/step - loss: 14750.8174 - root_mean_squared_error: 121.2836 - val_loss: 16743.9688 - val_root_mean_squared_error: 129.3985\n",
      "Epoch 71/200\n",
      "\u001b[1m25/25\u001b[0m \u001b[32m━━━━━━━━━━━━━━━━━━━━\u001b[0m\u001b[37m\u001b[0m \u001b[1m1s\u001b[0m 30ms/step - loss: 20103.3242 - root_mean_squared_error: 141.3856 - val_loss: 4213.7769 - val_root_mean_squared_error: 64.9136\n",
      "Epoch 72/200\n",
      "\u001b[1m25/25\u001b[0m \u001b[32m━━━━━━━━━━━━━━━━━━━━\u001b[0m\u001b[37m\u001b[0m \u001b[1m1s\u001b[0m 30ms/step - loss: 20708.0645 - root_mean_squared_error: 143.3392 - val_loss: 7212.4849 - val_root_mean_squared_error: 84.9264\n",
      "Epoch 73/200\n",
      "\u001b[1m25/25\u001b[0m \u001b[32m━━━━━━━━━━━━━━━━━━━━\u001b[0m\u001b[37m\u001b[0m \u001b[1m1s\u001b[0m 31ms/step - loss: 22113.2891 - root_mean_squared_error: 148.3086 - val_loss: 9485.7012 - val_root_mean_squared_error: 97.3946\n",
      "Epoch 74/200\n",
      "\u001b[1m25/25\u001b[0m \u001b[32m━━━━━━━━━━━━━━━━━━━━\u001b[0m\u001b[37m\u001b[0m \u001b[1m1s\u001b[0m 31ms/step - loss: 22676.1641 - root_mean_squared_error: 150.2901 - val_loss: 4751.4829 - val_root_mean_squared_error: 68.9310\n",
      "Epoch 75/200\n",
      "\u001b[1m25/25\u001b[0m \u001b[32m━━━━━━━━━━━━━━━━━━━━\u001b[0m\u001b[37m\u001b[0m \u001b[1m1s\u001b[0m 32ms/step - loss: 13340.6836 - root_mean_squared_error: 115.1918 - val_loss: 15174.8184 - val_root_mean_squared_error: 123.1861\n",
      "Epoch 76/200\n",
      "\u001b[1m25/25\u001b[0m \u001b[32m━━━━━━━━━━━━━━━━━━━━\u001b[0m\u001b[37m\u001b[0m \u001b[1m1s\u001b[0m 31ms/step - loss: 22129.0273 - root_mean_squared_error: 147.8070 - val_loss: 3678.8916 - val_root_mean_squared_error: 60.6539\n",
      "Epoch 77/200\n",
      "\u001b[1m25/25\u001b[0m \u001b[32m━━━━━━━━━━━━━━━━━━━━\u001b[0m\u001b[37m\u001b[0m \u001b[1m1s\u001b[0m 32ms/step - loss: 11801.8799 - root_mean_squared_error: 108.0684 - val_loss: 4579.6030 - val_root_mean_squared_error: 67.6728\n",
      "Epoch 78/200\n",
      "\u001b[1m25/25\u001b[0m \u001b[32m━━━━━━━━━━━━━━━━━━━━\u001b[0m\u001b[37m\u001b[0m \u001b[1m1s\u001b[0m 29ms/step - loss: 17169.5098 - root_mean_squared_error: 129.5047 - val_loss: 6765.7798 - val_root_mean_squared_error: 82.2544\n",
      "Epoch 79/200\n",
      "\u001b[1m25/25\u001b[0m \u001b[32m━━━━━━━━━━━━━━━━━━━━\u001b[0m\u001b[37m\u001b[0m \u001b[1m1s\u001b[0m 30ms/step - loss: 14341.2236 - root_mean_squared_error: 119.3421 - val_loss: 4321.4492 - val_root_mean_squared_error: 65.7377\n",
      "Epoch 80/200\n",
      "\u001b[1m25/25\u001b[0m \u001b[32m━━━━━━━━━━━━━━━━━━━━\u001b[0m\u001b[37m\u001b[0m \u001b[1m1s\u001b[0m 29ms/step - loss: 15331.8926 - root_mean_squared_error: 123.2889 - val_loss: 3241.3455 - val_root_mean_squared_error: 56.9328\n",
      "Epoch 81/200\n",
      "\u001b[1m25/25\u001b[0m \u001b[32m━━━━━━━━━━━━━━━━━━━━\u001b[0m\u001b[37m\u001b[0m \u001b[1m1s\u001b[0m 29ms/step - loss: 24940.8672 - root_mean_squared_error: 157.7891 - val_loss: 5983.8281 - val_root_mean_squared_error: 77.3552\n",
      "Epoch 82/200\n",
      "\u001b[1m25/25\u001b[0m \u001b[32m━━━━━━━━━━━━━━━━━━━━\u001b[0m\u001b[37m\u001b[0m \u001b[1m1s\u001b[0m 29ms/step - loss: 17752.6426 - root_mean_squared_error: 132.9463 - val_loss: 5244.3545 - val_root_mean_squared_error: 72.4179\n",
      "Epoch 83/200\n",
      "\u001b[1m25/25\u001b[0m \u001b[32m━━━━━━━━━━━━━━━━━━━━\u001b[0m\u001b[37m\u001b[0m \u001b[1m1s\u001b[0m 29ms/step - loss: 16169.0186 - root_mean_squared_error: 126.8945 - val_loss: 5244.7041 - val_root_mean_squared_error: 72.4203\n",
      "Epoch 84/200\n",
      "\u001b[1m25/25\u001b[0m \u001b[32m━━━━━━━━━━━━━━━━━━━━\u001b[0m\u001b[37m\u001b[0m \u001b[1m1s\u001b[0m 29ms/step - loss: 16930.7871 - root_mean_squared_error: 129.4875 - val_loss: 5915.9170 - val_root_mean_squared_error: 76.9150\n",
      "Epoch 85/200\n",
      "\u001b[1m25/25\u001b[0m \u001b[32m━━━━━━━━━━━━━━━━━━━━\u001b[0m\u001b[37m\u001b[0m \u001b[1m1s\u001b[0m 32ms/step - loss: 34079.3086 - root_mean_squared_error: 183.2451 - val_loss: 4891.6548 - val_root_mean_squared_error: 69.9404\n",
      "Epoch 86/200\n",
      "\u001b[1m25/25\u001b[0m \u001b[32m━━━━━━━━━━━━━━━━━━━━\u001b[0m\u001b[37m\u001b[0m \u001b[1m1s\u001b[0m 31ms/step - loss: 16613.7461 - root_mean_squared_error: 128.6213 - val_loss: 14730.1904 - val_root_mean_squared_error: 121.3680\n",
      "Epoch 87/200\n",
      "\u001b[1m25/25\u001b[0m \u001b[32m━━━━━━━━━━━━━━━━━━━━\u001b[0m\u001b[37m\u001b[0m \u001b[1m1s\u001b[0m 30ms/step - loss: 17419.6113 - root_mean_squared_error: 131.7721 - val_loss: 11330.6221 - val_root_mean_squared_error: 106.4454\n"
     ]
    },
    {
     "data": {
      "text/plain": [
       "<keras.src.callbacks.history.History at 0x1e3b8d2b620>"
      ]
     },
     "execution_count": 10,
     "metadata": {},
     "output_type": "execute_result"
    }
   ],
   "source": [
    "csv=tf.keras.callbacks.CSVLogger(\n",
    "   '2004 to 2007 comple.log',  append=True)\n",
    "\n",
    "early_stop=tf.keras.callbacks.EarlyStopping(\n",
    "    monitor='loss',\n",
    "    min_delta=0,\n",
    "    patience=10,\n",
    "    verbose=0,\n",
    "    mode='min',\n",
    "    baseline=None,\n",
    "    restore_best_weights=True,\n",
    "    start_from_epoch=0\n",
    ")\n",
    "\n",
    "models.fit(x_train,y_train, validation_data=(x_val,y_val),epochs=200, callbacks=[cp,csv,early_stop])"
   ]
  },
  {
   "cell_type": "code",
   "execution_count": null,
   "metadata": {},
   "outputs": [],
   "source": [
    "from tensorflow.keras.models import load_model\n",
    "\n",
    "models=load_model('models.keras')"
   ]
  },
  {
   "cell_type": "code",
   "execution_count": 12,
   "metadata": {},
   "outputs": [
    {
     "name": "stdout",
     "output_type": "stream",
     "text": [
      "\u001b[1m25/25\u001b[0m \u001b[32m━━━━━━━━━━━━━━━━━━━━\u001b[0m\u001b[37m\u001b[0m \u001b[1m0s\u001b[0m 4ms/step\n"
     ]
    },
    {
     "data": {
      "text/html": [
       "<div>\n",
       "<style scoped>\n",
       "    .dataframe tbody tr th:only-of-type {\n",
       "        vertical-align: middle;\n",
       "    }\n",
       "\n",
       "    .dataframe tbody tr th {\n",
       "        vertical-align: top;\n",
       "    }\n",
       "\n",
       "    .dataframe thead th {\n",
       "        text-align: right;\n",
       "    }\n",
       "</style>\n",
       "<table border=\"1\" class=\"dataframe\">\n",
       "  <thead>\n",
       "    <tr style=\"text-align: right;\">\n",
       "      <th></th>\n",
       "      <th>Actuals</th>\n",
       "      <th>Prediction</th>\n",
       "    </tr>\n",
       "  </thead>\n",
       "  <tbody>\n",
       "    <tr>\n",
       "      <th>0</th>\n",
       "      <td>4249</td>\n",
       "      <td>4241.524902</td>\n",
       "    </tr>\n",
       "    <tr>\n",
       "      <th>1</th>\n",
       "      <td>4238</td>\n",
       "      <td>4231.304688</td>\n",
       "    </tr>\n",
       "    <tr>\n",
       "      <th>2</th>\n",
       "      <td>4220</td>\n",
       "      <td>4220.878418</td>\n",
       "    </tr>\n",
       "    <tr>\n",
       "      <th>3</th>\n",
       "      <td>4203</td>\n",
       "      <td>4205.949707</td>\n",
       "    </tr>\n",
       "    <tr>\n",
       "      <th>4</th>\n",
       "      <td>4186</td>\n",
       "      <td>4189.907715</td>\n",
       "    </tr>\n",
       "    <tr>\n",
       "      <th>...</th>\n",
       "      <td>...</td>\n",
       "      <td>...</td>\n",
       "    </tr>\n",
       "    <tr>\n",
       "      <th>795</th>\n",
       "      <td>4051</td>\n",
       "      <td>4051.411377</td>\n",
       "    </tr>\n",
       "    <tr>\n",
       "      <th>796</th>\n",
       "      <td>4053</td>\n",
       "      <td>4052.489990</td>\n",
       "    </tr>\n",
       "    <tr>\n",
       "      <th>797</th>\n",
       "      <td>4055</td>\n",
       "      <td>4053.850342</td>\n",
       "    </tr>\n",
       "    <tr>\n",
       "      <th>798</th>\n",
       "      <td>4057</td>\n",
       "      <td>4055.467529</td>\n",
       "    </tr>\n",
       "    <tr>\n",
       "      <th>799</th>\n",
       "      <td>4058</td>\n",
       "      <td>4057.096191</td>\n",
       "    </tr>\n",
       "  </tbody>\n",
       "</table>\n",
       "<p>800 rows × 2 columns</p>\n",
       "</div>"
      ],
      "text/plain": [
       "     Actuals   Prediction\n",
       "0       4249  4241.524902\n",
       "1       4238  4231.304688\n",
       "2       4220  4220.878418\n",
       "3       4203  4205.949707\n",
       "4       4186  4189.907715\n",
       "..       ...          ...\n",
       "795     4051  4051.411377\n",
       "796     4053  4052.489990\n",
       "797     4055  4053.850342\n",
       "798     4057  4055.467529\n",
       "799     4058  4057.096191\n",
       "\n",
       "[800 rows x 2 columns]"
      ]
     },
     "execution_count": 12,
     "metadata": {},
     "output_type": "execute_result"
    }
   ],
   "source": [
    "train= models.predict(x_train).flatten()\n",
    "results=pd.DataFrame(data={\"Actuals\":y_train, \"Prediction\": train,})\n",
    "results"
   ]
  },
  {
   "cell_type": "code",
   "execution_count": null,
   "metadata": {},
   "outputs": [],
   "source": [
    "results.to_excel(\"simulated.xlsx\")"
   ]
  },
  {
   "cell_type": "code",
   "execution_count": 14,
   "metadata": {},
   "outputs": [
    {
     "data": {
      "text/plain": [
       "<matplotlib.legend.Legend at 0x1e3d27214c0>"
      ]
     },
     "execution_count": 14,
     "metadata": {},
     "output_type": "execute_result"
    },
    {
     "data": {
      "image/png": "[encoded data removed]",
      "text/plain": [
       "<Figure size 640x480 with 1 Axes>"
      ]
     },
     "metadata": {},
     "output_type": "display_data"
    }
   ],
   "source": [
    "import matplotlib.pyplot as plt\n",
    "\n",
    "plt.plot(results['Actuals'])\n",
    "plt.plot(results['Prediction'])\n",
    "plt.legend(results, loc= \"upper right\")"
   ]
  },
  {
   "cell_type": "code",
   "execution_count": 15,
   "metadata": {},
   "outputs": [
    {
     "name": "stdout",
     "output_type": "stream",
     "text": [
      "\u001b[1m10/10\u001b[0m \u001b[32m━━━━━━━━━━━━━━━━━━━━\u001b[0m\u001b[37m\u001b[0m \u001b[1m0s\u001b[0m 15ms/step\n"
     ]
    },
    {
     "data": {
      "text/html": [
       "<div>\n",
       "<style scoped>\n",
       "    .dataframe tbody tr th:only-of-type {\n",
       "        vertical-align: middle;\n",
       "    }\n",
       "\n",
       "    .dataframe tbody tr th {\n",
       "        vertical-align: top;\n",
       "    }\n",
       "\n",
       "    .dataframe thead th {\n",
       "        text-align: right;\n",
       "    }\n",
       "</style>\n",
       "<table border=\"1\" class=\"dataframe\">\n",
       "  <thead>\n",
       "    <tr style=\"text-align: right;\">\n",
       "      <th></th>\n",
       "      <th>Prediction</th>\n",
       "      <th>Actuals</th>\n",
       "    </tr>\n",
       "  </thead>\n",
       "  <tbody>\n",
       "    <tr>\n",
       "      <th>0</th>\n",
       "      <td>4058.181885</td>\n",
       "      <td>4060</td>\n",
       "    </tr>\n",
       "    <tr>\n",
       "      <th>1</th>\n",
       "      <td>4059.552979</td>\n",
       "      <td>4062</td>\n",
       "    </tr>\n",
       "    <tr>\n",
       "      <th>2</th>\n",
       "      <td>4061.181396</td>\n",
       "      <td>4063</td>\n",
       "    </tr>\n",
       "    <tr>\n",
       "      <th>3</th>\n",
       "      <td>4062.272461</td>\n",
       "      <td>4065</td>\n",
       "    </tr>\n",
       "    <tr>\n",
       "      <th>4</th>\n",
       "      <td>4063.650635</td>\n",
       "      <td>4067</td>\n",
       "    </tr>\n",
       "    <tr>\n",
       "      <th>...</th>\n",
       "      <td>...</td>\n",
       "      <td>...</td>\n",
       "    </tr>\n",
       "    <tr>\n",
       "      <th>295</th>\n",
       "      <td>4053.613037</td>\n",
       "      <td>4047</td>\n",
       "    </tr>\n",
       "    <tr>\n",
       "      <th>296</th>\n",
       "      <td>4050.636963</td>\n",
       "      <td>4044</td>\n",
       "    </tr>\n",
       "    <tr>\n",
       "      <th>297</th>\n",
       "      <td>4047.958252</td>\n",
       "      <td>4040</td>\n",
       "    </tr>\n",
       "    <tr>\n",
       "      <th>298</th>\n",
       "      <td>4045.004150</td>\n",
       "      <td>4037</td>\n",
       "    </tr>\n",
       "    <tr>\n",
       "      <th>299</th>\n",
       "      <td>4042.343994</td>\n",
       "      <td>4033</td>\n",
       "    </tr>\n",
       "  </tbody>\n",
       "</table>\n",
       "<p>300 rows × 2 columns</p>\n",
       "</div>"
      ],
      "text/plain": [
       "      Prediction  Actuals\n",
       "0    4058.181885     4060\n",
       "1    4059.552979     4062\n",
       "2    4061.181396     4063\n",
       "3    4062.272461     4065\n",
       "4    4063.650635     4067\n",
       "..           ...      ...\n",
       "295  4053.613037     4047\n",
       "296  4050.636963     4044\n",
       "297  4047.958252     4040\n",
       "298  4045.004150     4037\n",
       "299  4042.343994     4033\n",
       "\n",
       "[300 rows x 2 columns]"
      ]
     },
     "execution_count": 15,
     "metadata": {},
     "output_type": "execute_result"
    }
   ],
   "source": [
    "valid_predict= models.predict(x_val).flatten()\n",
    "results=pd.DataFrame(data={\"Prediction\":valid_predict, \"Actuals\":y_val})\n",
    "results"
   ]
  },
  {
   "cell_type": "code",
   "execution_count": 16,
   "metadata": {},
   "outputs": [
    {
     "data": {
      "text/plain": [
       "<matplotlib.legend.Legend at 0x1e3d2648620>"
      ]
     },
     "execution_count": 16,
     "metadata": {},
     "output_type": "execute_result"
    },
    {
     "data": {
      "image/png": "[encoded data removed]",
      "text/plain": [
       "<Figure size 640x480 with 1 Axes>"
      ]
     },
     "metadata": {},
     "output_type": "display_data"
    }
   ],
   "source": [
    "plt.plot(results['Actuals'])\n",
    "plt.plot(results['Prediction'])\n",
    "plt.legend(results, loc= \"upper left\")"
   ]
  },
  {
   "cell_type": "code",
   "execution_count": null,
   "metadata": {},
   "outputs": [
    {
     "name": "stdout",
     "output_type": "stream",
     "text": [
      "\u001b[1m11/11\u001b[0m \u001b[32m━━━━━━━━━━━━━━━━━━━━\u001b[0m\u001b[37m\u001b[0m \u001b[1m0s\u001b[0m 4ms/step \n"
     ]
    },
    {
     "data": {
      "text/html": [
       "<div>\n",
       "<style scoped>\n",
       "    .dataframe tbody tr th:only-of-type {\n",
       "        vertical-align: middle;\n",
       "    }\n",
       "\n",
       "    .dataframe tbody tr th {\n",
       "        vertical-align: top;\n",
       "    }\n",
       "\n",
       "    .dataframe thead th {\n",
       "        text-align: right;\n",
       "    }\n",
       "</style>\n",
       "<table border=\"1\" class=\"dataframe\">\n",
       "  <thead>\n",
       "    <tr style=\"text-align: right;\">\n",
       "      <th></th>\n",
       "      <th>Actuals</th>\n",
       "      <th>Prediction</th>\n",
       "    </tr>\n",
       "  </thead>\n",
       "  <tbody>\n",
       "    <tr>\n",
       "      <th>0</th>\n",
       "      <td>4030</td>\n",
       "      <td>4039.412842</td>\n",
       "    </tr>\n",
       "    <tr>\n",
       "      <th>1</th>\n",
       "      <td>4026</td>\n",
       "      <td>4036.771729</td>\n",
       "    </tr>\n",
       "    <tr>\n",
       "      <th>2</th>\n",
       "      <td>4022</td>\n",
       "      <td>4033.862549</td>\n",
       "    </tr>\n",
       "    <tr>\n",
       "      <th>3</th>\n",
       "      <td>4019</td>\n",
       "      <td>4030.718262</td>\n",
       "    </tr>\n",
       "    <tr>\n",
       "      <th>4</th>\n",
       "      <td>4015</td>\n",
       "      <td>4028.099365</td>\n",
       "    </tr>\n",
       "    <tr>\n",
       "      <th>...</th>\n",
       "      <td>...</td>\n",
       "      <td>...</td>\n",
       "    </tr>\n",
       "    <tr>\n",
       "      <th>345</th>\n",
       "      <td>3705</td>\n",
       "      <td>3822.881592</td>\n",
       "    </tr>\n",
       "    <tr>\n",
       "      <th>346</th>\n",
       "      <td>3709</td>\n",
       "      <td>3824.790771</td>\n",
       "    </tr>\n",
       "    <tr>\n",
       "      <th>347</th>\n",
       "      <td>3712</td>\n",
       "      <td>3826.735840</td>\n",
       "    </tr>\n",
       "    <tr>\n",
       "      <th>348</th>\n",
       "      <td>3716</td>\n",
       "      <td>3828.385742</td>\n",
       "    </tr>\n",
       "    <tr>\n",
       "      <th>349</th>\n",
       "      <td>3720</td>\n",
       "      <td>3830.209961</td>\n",
       "    </tr>\n",
       "  </tbody>\n",
       "</table>\n",
       "<p>350 rows × 2 columns</p>\n",
       "</div>"
      ],
      "text/plain": [
       "     Actuals   Prediction\n",
       "0       4030  4039.412842\n",
       "1       4026  4036.771729\n",
       "2       4022  4033.862549\n",
       "3       4019  4030.718262\n",
       "4       4015  4028.099365\n",
       "..       ...          ...\n",
       "345     3705  3822.881592\n",
       "346     3709  3824.790771\n",
       "347     3712  3826.735840\n",
       "348     3716  3828.385742\n",
       "349     3720  3830.209961\n",
       "\n",
       "[350 rows x 2 columns]"
      ]
     },
     "execution_count": 17,
     "metadata": {},
     "output_type": "execute_result"
    }
   ],
   "source": [
    "test= models.predict(x_test).flatten()\n",
    "results=pd.DataFrame(data={\"Actuals\":y_test, \"Prediction\": test,})\n",
    "results"
   ]
  },
  {
   "cell_type": "code",
   "execution_count": 18,
   "metadata": {},
   "outputs": [
    {
     "data": {
      "text/plain": [
       "<matplotlib.legend.Legend at 0x1e3d28b4a40>"
      ]
     },
     "execution_count": 18,
     "metadata": {},
     "output_type": "execute_result"
    },
    {
     "data": {
      "image/png": "[encoded data removed]",
      "text/plain": [
       "<Figure size 640x480 with 1 Axes>"
      ]
     },
     "metadata": {},
     "output_type": "display_data"
    }
   ],
   "source": [
    "plt.plot(results['Actuals'])\n",
    "plt.plot(results['Prediction'])\n",
    "plt.legend(results, loc= \"upper left\")"
   ]
  },
  {
   "cell_type": "code",
   "execution_count": null,
   "metadata": {},
   "outputs": [],
   "source": [
    "from sklearn.metrics import r2_score\n",
    "\n",
    "true = results['Actuals']\n",
    "predicted = results['Prediction']\n",
    "\n",
    "r2_score(true, predicted)"
   ]
  }
 ],
 "metadata": {
  "kernelspec": {
   "display_name": "Python 3",
   "language": "python",
   "name": "python3"
  },
  "language_info": {
   "codemirror_mode": {
    "name": "ipython",
    "version": 3
   },
   "file_extension": ".py",
   "mimetype": "text/x-python",
   "name": "python",
   "nbconvert_exporter": "python",
   "pygments_lexer": "ipython3",
   "version": "3.12.7"
  }
 },
 "nbformat": 4,
 "nbformat_minor": 2
}
